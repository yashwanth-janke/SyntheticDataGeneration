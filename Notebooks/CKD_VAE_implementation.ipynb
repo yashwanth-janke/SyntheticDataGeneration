{
 "cells": [
  {
   "cell_type": "code",
   "execution_count": 1,
   "id": "initial_id",
   "metadata": {
    "ExecuteTime": {
     "end_time": "2024-08-26T16:07:02.723915300Z",
     "start_time": "2024-08-26T16:06:43.145919800Z"
    },
    "collapsed": true
   },
   "outputs": [],
   "source": [
    "import tensorflow as tf"
   ]
  },
  {
   "cell_type": "code",
   "execution_count": 2,
   "id": "5c5880e356c14d5a",
   "metadata": {
    "ExecuteTime": {
     "end_time": "2024-08-26T16:07:44.746368Z",
     "start_time": "2024-08-26T16:07:44.731818400Z"
    },
    "collapsed": false
   },
   "outputs": [
    {
     "name": "stdout",
     "output_type": "stream",
     "text": [
      "[PhysicalDevice(name='/physical_device:CPU:0', device_type='CPU'), PhysicalDevice(name='/physical_device:GPU:0', device_type='GPU')]\n"
     ]
    }
   ],
   "source": [
    "print(tf.config.list_physical_devices())"
   ]
  },
  {
   "cell_type": "code",
   "execution_count": 3,
   "id": "eb78488eee18f9c7",
   "metadata": {
    "ExecuteTime": {
     "end_time": "2024-08-26T16:09:10.473474500Z",
     "start_time": "2024-08-26T16:09:10.423242200Z"
    },
    "collapsed": false
   },
   "outputs": [
    {
     "name": "stdout",
     "output_type": "stream",
     "text": [
      "GPU Name: NVIDIA GeForce GTX 1650, pci bus id: 0000:01:00.0, compute capability: 7.5\n"
     ]
    }
   ],
   "source": [
    "import tensorflow as tf\n",
    "from tensorflow.python.client import device_lib\n",
    "\n",
    "physical_devices = tf.config.list_physical_devices('GPU')\n",
    "\n",
    "gpu_name = None\n",
    "if physical_devices:\n",
    "    local_device_protos = device_lib.list_local_devices()\n",
    "    for device in local_device_protos:\n",
    "        if device.device_type == 'GPU':\n",
    "            gpu_name = device.physical_device_desc.split('name: ')[-1]\n",
    "\n",
    "if gpu_name:\n",
    "    print(f\"GPU Name: {gpu_name}\")\n",
    "else:\n",
    "    print(\"No GPU found\")\n"
   ]
  },
  {
   "cell_type": "code",
   "execution_count": 1,
   "id": "324826978d2b728",
   "metadata": {
    "collapsed": false
   },
   "outputs": [
    {
     "ename": "ModuleNotFoundError",
     "evalue": "No module named 'src'",
     "output_type": "error",
     "traceback": [
      "\u001b[1;31m---------------------------------------------------------------------------\u001b[0m",
      "\u001b[1;31mModuleNotFoundError\u001b[0m                       Traceback (most recent call last)",
      "Cell \u001b[1;32mIn[1], line 3\u001b[0m\n\u001b[0;32m      1\u001b[0m \u001b[38;5;66;03m# Data Exploration\u001b[39;00m\n\u001b[0;32m      2\u001b[0m \u001b[38;5;28;01mimport\u001b[39;00m \u001b[38;5;21;01mpandas\u001b[39;00m \u001b[38;5;28;01mas\u001b[39;00m \u001b[38;5;21;01mpd\u001b[39;00m\n\u001b[1;32m----> 3\u001b[0m \u001b[38;5;28;01mfrom\u001b[39;00m \u001b[38;5;21;01msrc\u001b[39;00m\u001b[38;5;21;01m.\u001b[39;00m\u001b[38;5;21;01mdata_preprocessing\u001b[39;00m \u001b[38;5;28;01mimport\u001b[39;00m load_and_preprocess_data\n\u001b[0;32m      5\u001b[0m df \u001b[38;5;241m=\u001b[39m pd\u001b[38;5;241m.\u001b[39mread_csv(\u001b[38;5;124m'\u001b[39m\u001b[38;5;124m../Data/Raw/ckd.csv\u001b[39m\u001b[38;5;124m'\u001b[39m)\n\u001b[0;32m      6\u001b[0m X_train, X_test \u001b[38;5;241m=\u001b[39m load_and_preprocess_data(df)\n",
      "\u001b[1;31mModuleNotFoundError\u001b[0m: No module named 'src'"
     ]
    }
   ],
   "source": [
    "# Data Exploration\n",
    "import pandas as pd\n",
    "from src.data_preprocessing import load_and_preprocess_data\n",
    "\n",
    "df = pd.read_csv('../Data/Raw/ckd.csv')\n",
    "X_train, X_test = load_and_preprocess_data(df)\n",
    "\n",
    "# Model Experimentation\n",
    "from src.vae_model import build_vae\n",
    "encoder, decoder, vae = build_vae(X_train.shape[1], latent_dim=2)\n",
    "vae.summary()\n",
    "\n",
    "# Training (can be done here or using train.py)\n",
    "vae.fit(X_train, X_train, epochs=50, batch_size=32, validation_data=(X_test, X_test))\n",
    "\n",
    "# Visualization and Synthetic Data Generation\n",
    "from src.utils import visualize_latent_space, generate_and_plot_synthetic_data\n",
    "\n",
    "visualize_latent_space(encoder, X_test)\n",
    "synthetic_data = generate_and_plot_synthetic_data(decoder, num_samples=100)\n"
   ]
  }
 ],
 "metadata": {
  "kernelspec": {
   "display_name": "Python 3",
   "language": "python",
   "name": "python3"
  },
  "language_info": {
   "codemirror_mode": {
    "name": "ipython",
    "version": 3
   },
   "file_extension": ".py",
   "mimetype": "text/x-python",
   "name": "python",
   "nbconvert_exporter": "python",
   "pygments_lexer": "ipython3",
   "version": "3.10.14"
  }
 },
 "nbformat": 4,
 "nbformat_minor": 5
}
